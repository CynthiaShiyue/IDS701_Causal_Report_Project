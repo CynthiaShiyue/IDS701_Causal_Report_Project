{
 "cells": [
  {
   "cell_type": "markdown",
   "metadata": {},
   "source": [
    "# Baseline Validation： Cross-sectional DiD"
   ]
  },
  {
   "cell_type": "code",
   "execution_count": null,
   "metadata": {},
   "outputs": [],
   "source": [
    "import pandas as pd\n",
    "robust_df = pd.read_csv(\"robust_df.csv\", parse_dates=[\"Date\", \"event_date\"])\n",
    "cross_df = robust_df.dropna(subset=[\"event_id\", \"delta_CAR\"])\n",
    "cross_df = cross_df.drop_duplicates(subset=[\"ticker\", \"event_id\"])\n",
    "\n"
   ]
  },
  {
   "cell_type": "code",
   "execution_count": 2,
   "metadata": {},
   "outputs": [
    {
     "name": "stdout",
     "output_type": "stream",
     "text": [
      "                            OLS Regression Results                            \n",
      "==============================================================================\n",
      "Dep. Variable:              delta_CAR   R-squared:                       0.012\n",
      "Model:                            OLS   Adj. R-squared:                 -0.013\n",
      "Method:                 Least Squares   F-statistic:                    0.4858\n",
      "Date:                Tue, 22 Apr 2025   Prob (F-statistic):              0.490\n",
      "Time:                        12:34:59   Log-Likelihood:                 51.647\n",
      "No. Observations:                  42   AIC:                            -99.29\n",
      "Df Residuals:                      40   BIC:                            -95.82\n",
      "Df Model:                           1                                         \n",
      "Covariance Type:            nonrobust                                         \n",
      "==============================================================================\n",
      "                 coef    std err          t      P>|t|      [0.025      0.975]\n",
      "------------------------------------------------------------------------------\n",
      "Intercept     -0.0155      0.015     -1.048      0.301      -0.045       0.014\n",
      "Treatment     -0.0158      0.023     -0.697      0.490      -0.061       0.030\n",
      "==============================================================================\n",
      "Omnibus:                        1.516   Durbin-Watson:                   2.174\n",
      "Prob(Omnibus):                  0.469   Jarque-Bera (JB):                0.672\n",
      "Skew:                           0.204   Prob(JB):                        0.715\n",
      "Kurtosis:                       3.467   Cond. No.                         2.48\n",
      "==============================================================================\n",
      "\n",
      "Notes:\n",
      "[1] Standard Errors assume that the covariance matrix of the errors is correctly specified.\n"
     ]
    }
   ],
   "source": [
    "import statsmodels.formula.api as smf\n",
    "\n",
    "model = smf.ols(\"delta_CAR ~ Treatment\", data=cross_df).fit()\n",
    "print(model.summary())\n"
   ]
  },
  {
   "cell_type": "code",
   "execution_count": 5,
   "metadata": {},
   "outputs": [
    {
     "name": "stdout",
     "output_type": "stream",
     "text": [
      "                            OLS Regression Results                            \n",
      "==============================================================================\n",
      "Dep. Variable:              delta_CAR   R-squared:                       0.497\n",
      "Model:                            OLS   Adj. R-squared:                  0.410\n",
      "Method:                 Least Squares   F-statistic:                     5.752\n",
      "Date:                Tue, 22 Apr 2025   Prob (F-statistic):           0.000302\n",
      "Time:                        12:40:52   Log-Likelihood:                 65.804\n",
      "No. Observations:                  42   AIC:                            -117.6\n",
      "Df Residuals:                      35   BIC:                            -105.4\n",
      "Df Model:                           6                                         \n",
      "Covariance Type:            nonrobust                                         \n",
      "===============================================================================================================\n",
      "                                                  coef    std err          t      P>|t|      [0.025      0.975]\n",
      "---------------------------------------------------------------------------------------------------------------\n",
      "Intercept                                      -0.0773      0.022     -3.487      0.001      -0.122      -0.032\n",
      "C(event_id)[T.2023_export_expansion]            0.0145      0.030      0.489      0.628      -0.046       0.075\n",
      "C(event_id)[T.2023_investment_ban]              0.0705      0.030      2.385      0.023       0.011       0.131\n",
      "C(event_id)[T.2024_export_tightening]           0.0372      0.030      1.259      0.216      -0.023       0.097\n",
      "C(event_id)[T.2024_investment_finalization]     0.1153      0.030      3.897      0.000       0.055       0.175\n",
      "C(event_id)[T.2024_tariff_increase]             0.1334      0.030      4.512      0.000       0.073       0.193\n",
      "Treatment                                      -0.0158      0.017     -0.913      0.367      -0.051       0.019\n",
      "==============================================================================\n",
      "Omnibus:                        0.702   Durbin-Watson:                   2.434\n",
      "Prob(Omnibus):                  0.704   Jarque-Bera (JB):                0.296\n",
      "Skew:                          -0.201   Prob(JB):                        0.862\n",
      "Kurtosis:                       3.091   Cond. No.                         7.50\n",
      "==============================================================================\n",
      "\n",
      "Notes:\n",
      "[1] Standard Errors assume that the covariance matrix of the errors is correctly specified.\n"
     ]
    }
   ],
   "source": [
    "model =smf.ols(\"delta_CAR ~ Treatment + C(event_id)\", data=cross_df).fit()\n",
    "print(model.summary())"
   ]
  },
  {
   "cell_type": "code",
   "execution_count": 6,
   "metadata": {},
   "outputs": [
    {
     "name": "stdout",
     "output_type": "stream",
     "text": [
      "                            OLS Regression Results                            \n",
      "==============================================================================\n",
      "Dep. Variable:              delta_CAR   R-squared:                       0.012\n",
      "Model:                            OLS   Adj. R-squared:                 -0.013\n",
      "Method:                 Least Squares   F-statistic:                    0.4153\n",
      "Date:                Tue, 22 Apr 2025   Prob (F-statistic):              0.523\n",
      "Time:                        12:42:05   Log-Likelihood:                 51.647\n",
      "No. Observations:                  42   AIC:                            -99.29\n",
      "Df Residuals:                      40   BIC:                            -95.82\n",
      "Df Model:                           1                                         \n",
      "Covariance Type:                  HC1                                         \n",
      "==============================================================================\n",
      "                 coef    std err          z      P>|z|      [0.025      0.975]\n",
      "------------------------------------------------------------------------------\n",
      "Intercept     -0.0155      0.010     -1.496      0.135      -0.036       0.005\n",
      "Treatment     -0.0158      0.024     -0.644      0.519      -0.064       0.032\n",
      "==============================================================================\n",
      "Omnibus:                        1.516   Durbin-Watson:                   2.174\n",
      "Prob(Omnibus):                  0.469   Jarque-Bera (JB):                0.672\n",
      "Skew:                           0.204   Prob(JB):                        0.715\n",
      "Kurtosis:                       3.467   Cond. No.                         2.48\n",
      "==============================================================================\n",
      "\n",
      "Notes:\n",
      "[1] Standard Errors are heteroscedasticity robust (HC1)\n"
     ]
    }
   ],
   "source": [
    "\n",
    "model = smf.ols(\"delta_CAR ~ Treatment\", data=cross_df).fit(cov_type='HC1')\n",
    "print(model.summary())\n"
   ]
  },
  {
   "cell_type": "markdown",
   "metadata": {},
   "source": [
    "As a baseline validation, we estimate a cross-sectional regression of delta CAR (post-event minus pre-event cumulative abnormal return) on a treatment indicator. While the point estimate suggests that hardware-dependent firms experienced slightly more negative reactions relative to the control group (-1.58%), the result is not statistically significant (p = 0.519). This suggests that, on average, the treatment group did not respond more sharply to policy announcements over the full ±10-day window, though more dynamic specifications may reveal time-varying effects."
   ]
  }
 ],
 "metadata": {
  "kernelspec": {
   "display_name": "base",
   "language": "python",
   "name": "python3"
  },
  "language_info": {
   "codemirror_mode": {
    "name": "ipython",
    "version": 3
   },
   "file_extension": ".py",
   "mimetype": "text/x-python",
   "name": "python",
   "nbconvert_exporter": "python",
   "pygments_lexer": "ipython3",
   "version": "3.12.6"
  }
 },
 "nbformat": 4,
 "nbformat_minor": 2
}
